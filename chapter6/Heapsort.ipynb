{
 "cells": [
  {
   "cell_type": "markdown",
   "metadata": {},
   "source": [
    "## Heapsort"
   ]
  },
  {
   "cell_type": "code",
   "execution_count": 1,
   "metadata": {
    "collapsed": false
   },
   "outputs": [],
   "source": [
    "from math import floor\n",
    "from math import ceil"
   ]
  },
  {
   "cell_type": "code",
   "execution_count": 2,
   "metadata": {
    "collapsed": true
   },
   "outputs": [],
   "source": [
    "# edited from CLRS because of 0-indexing\n",
    "def parent(i):\n",
    "    return ceil(i/2) - 1\n",
    "def left(i):\n",
    "    return 2 * i + 1\n",
    "def right(i):\n",
    "    return 2 * i + 2"
   ]
  },
  {
   "cell_type": "code",
   "execution_count": 3,
   "metadata": {
    "collapsed": false
   },
   "outputs": [],
   "source": [
    "def max_heapify(A, i, heapsize):\n",
    "    l = left(i)\n",
    "    r = right(i)\n",
    "    if l <= heapsize-1 and A[l] > A[i]:\n",
    "        largest = l\n",
    "    else:\n",
    "        largest = i\n",
    "    if r <= heapsize-1 and A[r] > A[largest]:\n",
    "        largest = r\n",
    "    if largest != i:\n",
    "        #exchange A[i] with A[largest]\n",
    "        tmp_largest = A[largest]\n",
    "        tmp_i = A[i]\n",
    "        A[i] = tmp_largest\n",
    "        A[largest] = tmp_i\n",
    "        max_heapify(A, largest, heapsize=heapsize)\n",
    "\n",
    "def build_max_heap(A):\n",
    "    for i in range(floor(len(A)/2)-1, -1, -1):\n",
    "        max_heapify(A, i, heapsize=len(A)) \n",
    "        \n",
    "def heapsort(A):\n",
    "    print('before sorting, A = ', A)\n",
    "    build_max_heap(A)\n",
    "    print('after build max heap, A = ', A)\n",
    "    heapsize = len(A)\n",
    "    for i in range(len(A)-1, 0, -1):\n",
    "        # exchange A[1] with A[i]\n",
    "        tmp_0 = A[0]\n",
    "        tmp_i = A[i]\n",
    "        A[i] = tmp_0\n",
    "        A[0] = tmp_i\n",
    "        heapsize = heapsize - 1\n",
    "        max_heapify(A,0,heapsize=heapsize)"
   ]
  },
  {
   "cell_type": "code",
   "execution_count": 4,
   "metadata": {
    "collapsed": false
   },
   "outputs": [
    {
     "name": "stdout",
     "output_type": "stream",
     "text": [
      "before max-heapify, B =  [16, 4, 10, 14, 7, 9, 3, 2, 8, 1]\n",
      "after max-heapify, B =  [16, 14, 10, 8, 7, 9, 3, 2, 4, 1]\n",
      "notice the 4 floats down as on page 155\n"
     ]
    }
   ],
   "source": [
    "# test max-heapify\n",
    "B = [16, 4, 10, 14, 7, 9, 3, 2, 8, 1]\n",
    "print('before max-heapify, B = ', B)\n",
    "max_heapify(B,1, heapsize=len(B))\n",
    "print('after max-heapify, B = ', B)\n",
    "print('notice the 4 floats down as on page 155')"
   ]
  },
  {
   "cell_type": "code",
   "execution_count": 5,
   "metadata": {
    "collapsed": false
   },
   "outputs": [
    {
     "name": "stdout",
     "output_type": "stream",
     "text": [
      "before build-max-heap, C =  [4, 1, 3, 2, 16, 9, 10, 14, 8, 7]\n",
      "after build-max-heap, C =  [16, 14, 10, 8, 7, 9, 3, 2, 4, 1]\n"
     ]
    }
   ],
   "source": [
    "# test build-max-heap\n",
    "C = [4, 1, 3, 2, 16, 9, 10, 14, 8, 7]\n",
    "print('before build-max-heap, C = ', C)\n",
    "build_max_heap(C)\n",
    "print('after build-max-heap, C = ', C)"
   ]
  },
  {
   "cell_type": "code",
   "execution_count": 6,
   "metadata": {
    "collapsed": false
   },
   "outputs": [
    {
     "name": "stdout",
     "output_type": "stream",
     "text": [
      "before sorting, A =  [4, 1, 3, 2, 16, 9, 10, 14, 8, 7]\n",
      "after build max heap, A =  [16, 14, 10, 8, 7, 9, 3, 2, 4, 1]\n",
      "after sorting, C =  [1, 2, 3, 4, 7, 8, 9, 10, 14, 16]\n"
     ]
    }
   ],
   "source": [
    "# test heap sort (example from textbook)\n",
    "C = [4, 1, 3, 2, 16, 9, 10, 14, 8, 7]\n",
    "#print('before sorting, C = ', C)\n",
    "heapsort(C)\n",
    "print('after sorting, C = ', C)"
   ]
  },
  {
   "cell_type": "code",
   "execution_count": 7,
   "metadata": {
    "collapsed": false
   },
   "outputs": [
    {
     "name": "stdout",
     "output_type": "stream",
     "text": [
      "before sorting, R =  [90, 95, 82, 65, 61, 11, 36, 70, 47, 66, 44, 34, 73, 87, 74, 33, 91, 14, 62, 7, 5, 2, 9, 42, 3, 24, 75, 81, 76, 86]\n",
      "before sorting, A =  [90, 95, 82, 65, 61, 11, 36, 70, 47, 66, 44, 34, 73, 87, 74, 33, 91, 14, 62, 7, 5, 2, 9, 42, 3, 24, 75, 81, 76, 86]\n",
      "after build max heap, A =  [95, 91, 87, 90, 66, 75, 86, 70, 62, 61, 44, 42, 73, 81, 82, 33, 65, 14, 47, 7, 5, 2, 9, 34, 3, 24, 11, 36, 76, 74]\n",
      "after sorting, R =  [2, 3, 5, 7, 9, 11, 14, 24, 33, 34, 36, 42, 44, 47, 61, 62, 65, 66, 70, 73, 74, 75, 76, 81, 82, 86, 87, 90, 91, 95]\n"
     ]
    }
   ],
   "source": [
    "# test heap sort (random example)\n",
    "import random\n",
    "# fill list with 30 random integers\n",
    "R = random.sample(range(100), 30)\n",
    "print('before sorting, R = ', R)\n",
    "heapsort(R)\n",
    "print('after sorting, R = ', R)"
   ]
  }
 ],
 "metadata": {
  "kernelspec": {
   "display_name": "Python 3",
   "language": "python",
   "name": "python3"
  },
  "language_info": {
   "codemirror_mode": {
    "name": "ipython",
    "version": 3
   },
   "file_extension": ".py",
   "mimetype": "text/x-python",
   "name": "python",
   "nbconvert_exporter": "python",
   "pygments_lexer": "ipython3",
   "version": "3.4.5"
  }
 },
 "nbformat": 4,
 "nbformat_minor": 0
}
