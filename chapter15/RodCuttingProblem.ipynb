{
 "cells": [
  {
   "cell_type": "markdown",
   "metadata": {},
   "source": [
    "### Rod Cutting Algorithms\n",
    "> From Ch 15 of CLRS on Dynamic Programming"
   ]
  },
  {
   "cell_type": "code",
   "execution_count": 4,
   "metadata": {
    "collapsed": false
   },
   "outputs": [],
   "source": [
    "def cut_rod_naive(p, n):\n",
    "    \"\"\"cut_rod from CLRS chapter 15, naive approach\"\"\"\n",
    "    \"\"\"p is a profit table defining profit for each rod length\"\"\"\n",
    "    \"\"\"n is the total length of the rod you'd like to cut up and sell \"\"\"\n",
    "    \"\"\"returns q, the maximum profit\"\"\"\n",
    "    if n == 0:\n",
    "        return 0\n",
    "    q = -float(\"inf\")\n",
    "    for i in range(1, n+1):\n",
    "        q = max(q, p[i] + cut_rod_naive(p, n-i))\n",
    "    return q\n",
    "\n",
    "def cut_rod_memoized(p, n):\n",
    "    \"\"\"cut_rod from CLRS chapter 15, memoized approach\"\"\"\n",
    "    \"\"\"p is a profit table defining profit for each rod length\"\"\"\n",
    "    \"\"\"n is the total length of the rod you'd like to cut up and sell \"\"\"\n",
    "    \"\"\"returns q, the maximum profit\"\"\"\n",
    "    # let r[0 n] be a new array\n",
    "    r = (n+1)*[None]\n",
    "    for i in range(0,n+1):\n",
    "        r[i] = -float(\"inf\")\n",
    "    return cut_rod_memoized_aux(p, n, r)\n",
    "    \n",
    "    \n",
    "def cut_rod_memoized_aux(p, n, r):\n",
    "    \"\"\"cut_rod from CLRS chapter 15, memoized approach auxilary fn\"\"\"\n",
    "    \"\"\"p is a profit table defining profit for each rod length\"\"\"\n",
    "    \"\"\"n is the total length of the rod you'd like to cut up and sell \"\"\"\n",
    "    \"\"\"returns q, the maximum profit\"\"\"\n",
    "    if r[n] >= 0:\n",
    "        return r[n]\n",
    "    if n == 0:\n",
    "        q = 0\n",
    "    else:\n",
    "        q = -float(\"inf\")\n",
    "        for i in range(1,n+1):\n",
    "            q = max(q, p[i] + cut_rod_memoized_aux(p, n-i, r))\n",
    "    r[n] = q\n",
    "    return q\n",
    "        \n",
    "    \n",
    "def cut_rod_bottom_up(p, n):\n",
    "    \"\"\"cut_rod from CLRS chapter 15, bottom up\"\"\"\n",
    "    \"\"\"p is a profit table defining profit for each rod length\"\"\"\n",
    "    \"\"\"n is the total length of the rod you'd like to cut up and sell \"\"\"\n",
    "    \"\"\"returns q, the maximum profit\"\"\"\n",
    "    # let r[0 n] be a new array\n",
    "    r = (n+1)*[None]\n",
    "    r[0] = 0\n",
    "    for j in range(1, n+1): # might need n+2 here... since there are n+1\n",
    "        # # # # # # # # # # # elements in the r array\n",
    "        q = -float('inf')\n",
    "        for i in range(1, j+1):\n",
    "            q = max(q, p[i] + r[j-i])\n",
    "        r[j] = q\n",
    "    return r[n]"
   ]
  },
  {
   "cell_type": "code",
   "execution_count": 3,
   "metadata": {
    "collapsed": false
   },
   "outputs": [
    {
     "name": "stdout",
     "output_type": "stream",
     "text": [
      "11\n"
     ]
    }
   ],
   "source": [
    "# define a length, price table for rods (clrs page 381)\n",
    "# include 0 revenue for the i=0 (no cuts) case\n",
    "p = [0, 1, 5, 8, 9, 10, 17, 17, 20, 24, 30]\n",
    "print len(p)"
   ]
  },
  {
   "cell_type": "code",
   "execution_count": 5,
   "metadata": {
    "collapsed": false
   },
   "outputs": [
    {
     "data": {
      "text/plain": [
       "10"
      ]
     },
     "execution_count": 5,
     "metadata": {},
     "output_type": "execute_result"
    }
   ],
   "source": [
    "cut_rod_naive(p, 4)"
   ]
  },
  {
   "cell_type": "code",
   "execution_count": 6,
   "metadata": {
    "collapsed": false
   },
   "outputs": [
    {
     "data": {
      "text/plain": [
       "10"
      ]
     },
     "execution_count": 6,
     "metadata": {},
     "output_type": "execute_result"
    }
   ],
   "source": [
    "cut_rod_bottom_up(p, 4)"
   ]
  },
  {
   "cell_type": "code",
   "execution_count": 7,
   "metadata": {
    "collapsed": false
   },
   "outputs": [
    {
     "data": {
      "text/plain": [
       "10"
      ]
     },
     "execution_count": 7,
     "metadata": {},
     "output_type": "execute_result"
    }
   ],
   "source": [
    "cut_rod_memoized(p, 4)"
   ]
  },
  {
   "cell_type": "code",
   "execution_count": 8,
   "metadata": {
    "collapsed": false
   },
   "outputs": [
    {
     "name": "stdout",
     "output_type": "stream",
     "text": [
      "5\n",
      "5\n",
      "5\n"
     ]
    }
   ],
   "source": [
    "print cut_rod_naive(p, 2)\n",
    "print cut_rod_bottom_up(p, 2)\n",
    "print cut_rod_memoized(p, 2)"
   ]
  },
  {
   "cell_type": "code",
   "execution_count": 9,
   "metadata": {
    "collapsed": false
   },
   "outputs": [
    {
     "name": "stdout",
     "output_type": "stream",
     "text": [
      "25\n",
      "25\n",
      "25\n"
     ]
    }
   ],
   "source": [
    "print cut_rod_naive(p, 9)\n",
    "print cut_rod_bottom_up(p, 9)\n",
    "print cut_rod_memoized(p, 9)"
   ]
  },
  {
   "cell_type": "code",
   "execution_count": 25,
   "metadata": {
    "collapsed": false
   },
   "outputs": [],
   "source": [
    "def cut_rod_bottom_up_extended(p,n):\n",
    "    \"\"\"this one extends cut-rod-bottom-up to reconstruct the soln.\"\"\"\n",
    "    # let r[0 n] & s[0 n] be new arrays\n",
    "    r = (n+1)*[None]\n",
    "    s = (n+1)*[None]\n",
    "    r[0] = 0\n",
    "    s[0] = 0 #added by stephanie\n",
    "    for j in range(1, n+1): # might need n+2 here... since there are n+1\n",
    "        # # # # # # # # # # # elements in the r array\n",
    "        q = -float('inf')\n",
    "        for i in range(1, j+1):\n",
    "            if q < p[i] + r[j-i]:\n",
    "                q = p[i] + r[j -i]\n",
    "                s[j] = i\n",
    "        r[j] = q\n",
    "    print 'r array : ', r\n",
    "    print 's array : ', s\n",
    "    return (r,s)\n",
    "\n",
    "def print_cut_rod_solution(p,n):\n",
    "    (r,s) = cut_rod_bottom_up_extended(p, n)\n",
    "    while n > 0:\n",
    "        print s[n]\n",
    "        n = n - s[n]"
   ]
  },
  {
   "cell_type": "code",
   "execution_count": 26,
   "metadata": {
    "collapsed": false
   },
   "outputs": [
    {
     "name": "stdout",
     "output_type": "stream",
     "text": [
      "r array :  [0, 1, 5, 8, 10, 13, 17, 18, 22, 25, 30]\n",
      "s array :  [0, 1, 2, 3, 2, 2, 6, 1, 2, 3, 10]\n"
     ]
    },
    {
     "data": {
      "text/plain": [
       "([0, 1, 5, 8, 10, 13, 17, 18, 22, 25, 30], [0, 1, 2, 3, 2, 2, 6, 1, 2, 3, 10])"
      ]
     },
     "execution_count": 26,
     "metadata": {},
     "output_type": "execute_result"
    }
   ],
   "source": [
    "cut_rod_bottom_up_extended(p, 10)"
   ]
  },
  {
   "cell_type": "code",
   "execution_count": 28,
   "metadata": {
    "collapsed": false
   },
   "outputs": [
    {
     "name": "stdout",
     "output_type": "stream",
     "text": [
      "r array :  [0, 1, 5, 8, 10, 13, 17, 18, 22, 25, 30]\n",
      "s array :  [0, 1, 2, 3, 2, 2, 6, 1, 2, 3, 10]\n",
      "10\n"
     ]
    }
   ],
   "source": [
    "print_cut_rod_solution(p, 10)"
   ]
  },
  {
   "cell_type": "code",
   "execution_count": 29,
   "metadata": {
    "collapsed": false
   },
   "outputs": [
    {
     "name": "stdout",
     "output_type": "stream",
     "text": [
      "r array :  [0, 1, 5, 8, 10, 13, 17, 18]\n",
      "s array :  [0, 1, 2, 3, 2, 2, 6, 1]\n",
      "1\n",
      "6\n"
     ]
    }
   ],
   "source": [
    "print_cut_rod_solution(p, 7)"
   ]
  }
 ],
 "metadata": {
  "kernelspec": {
   "display_name": "Python 2",
   "language": "python",
   "name": "python2"
  },
  "language_info": {
   "codemirror_mode": {
    "name": "ipython",
    "version": 2
   },
   "file_extension": ".py",
   "mimetype": "text/x-python",
   "name": "python",
   "nbconvert_exporter": "python",
   "pygments_lexer": "ipython2",
   "version": "2.7.10"
  }
 },
 "nbformat": 4,
 "nbformat_minor": 0
}
